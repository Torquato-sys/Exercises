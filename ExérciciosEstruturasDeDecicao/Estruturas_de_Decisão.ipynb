{
  "cells": [
    {
      "cell_type": "markdown",
      "id": "8535c274",
      "metadata": {
        "id": "8535c274"
      },
      "source": [
        "# Estruturas de decisão\n",
        "\n",
        "<span style=\"color: red;\"><b>Todos os exercícios são feitos partindo-se do pressuposto de que todas as entradas são dadas de forma correta. Casos limite não mencionados no enunciado não são abordados porque não fazem parte do exercício.</b></span>"
      ]
    },
    {
      "cell_type": "markdown",
      "id": "9c3d817e",
      "metadata": {
        "id": "9c3d817e"
      },
      "source": [
        "#### 1. Faça um Programa que peça dois números e imprima o maior deles."
      ]
    },
    {
      "cell_type": "code",
      "execution_count": null,
      "id": "ae45c028",
      "metadata": {
        "id": "ae45c028"
      },
      "outputs": [],
      "source": [
        "num1 = int(input(\"digite um numero: \"))\n",
        "num2 = int(input(\"digite outro numero: \"))\n",
        "\n",
        "if num1 > num2:\n",
        "  print(\"O número {} é maior do que {}!\".format(num1, num2))\n",
        "elif num2 > num1:\n",
        "  print(\"O número {} é maior do que {}!\".format(num2, num1))\n",
        "else:\n",
        "  print(\"Os numeros são iguais.\")"
      ]
    },
    {
      "cell_type": "markdown",
      "id": "ff510803",
      "metadata": {
        "id": "ff510803"
      },
      "source": [
        "#### 2. Faça um Programa que peça um valor e mostre na tela se o valor é positivo ou negativo."
      ]
    },
    {
      "cell_type": "code",
      "execution_count": null,
      "id": "8952f58f",
      "metadata": {
        "id": "8952f58f"
      },
      "outputs": [],
      "source": [
        "num = int(input(\"Digite um número: \"))\n",
        "\n",
        "if num > 0:\n",
        "  print(\"Número positivo!\")\n",
        "elif num < 0:\n",
        "  print(\"Número negativo!\")\n",
        "else:\n",
        "  print(\"Seu numero é 0.\")"
      ]
    },
    {
      "cell_type": "markdown",
      "id": "6966546b",
      "metadata": {
        "id": "6966546b"
      },
      "source": [
        "#### 3. Faça um Programa que verifique o estado civil de uma pessoa. Se a letra digitada é \"C\" (Casado), \"S\" (Solteiro), \"D\" (Divorciado), \"V\" (Viúvo) ou \"O\" (outros). Conforme a letra escrita pelo usuário seu programa deve escrever o estado civil, exemplo:\n",
        "\n",
        "Usuário digita: C\n",
        "\n",
        "Seu programa deve responder:\n",
        "C - Casado"
      ]
    },
    {
      "cell_type": "code",
      "execution_count": null,
      "id": "876a1e67",
      "metadata": {
        "id": "876a1e67"
      },
      "outputs": [],
      "source": [
        "print(\"Escolha uma opção abaixo, para informar seu estado civil.\")\n",
        "\n",
        "print(\"--------------------------------------------\")\n",
        "print('( C ) Casado,\\\n",
        " ( S ) Solteiro,\\\n",
        "  ( D ) Divorciado,\\\n",
        "   ( V ) Viúvo\\\n",
        "     ( O ) outros')\n",
        "print(\"--------------------------------------------\")\n",
        "\n",
        "print(\"Digite ( SAIR ) para sair da aplicação.\")\n",
        "\n",
        "while True:\n",
        "  est_civil = input(\"Digite a letra correspondente ao seu estado civil: \").upper()\n",
        "\n",
        "  if est_civil == \"SAIR\":\n",
        "    break\n",
        "\n",
        "  elif est_civil == \"C\":\n",
        "    print(\"Vejo que você é casado(a).\")\n",
        "  elif est_civil == \"S\":\n",
        "    print(\"Vejo que você é solteiro(a).\")\n",
        "  elif est_civil == \"D\":\n",
        "    print(\"Vejo que você é divorciado(a).\")\n",
        "  elif est_civil == \"V\":\n",
        "    print(\"vejo que você é viúvo(a).\")\n",
        "  elif est_civil == \"O\":\n",
        "    print(\"Vejo que você prefere não informar seu estado civil.\")\n",
        "  else:\n",
        "    print(\"Informe um dos mencionados acima.\")\n"
      ]
    },
    {
      "cell_type": "markdown",
      "id": "c122c0cf",
      "metadata": {
        "id": "c122c0cf"
      },
      "source": [
        "#### 4. Faça um Programa que verifique se o e-mail digitado faz parte dos e-mails de spam."
      ]
    },
    {
      "cell_type": "code",
      "execution_count": null,
      "id": "59bed184",
      "metadata": {
        "id": "59bed184"
      },
      "outputs": [],
      "source": [
        "emails_spam = (\"fulano@gmail.com\", \"beltrano@gmail.com\", \"ciclano@gmail.com\")\n",
        "\n",
        "email = input(\"Digite seu email: \")\n",
        "\n",
        "for i in emails_spam:\n",
        "  if email == i:\n",
        "    print(\"Esse email é spam, cuidado.\")\n",
        "    break\n",
        "  else:\n",
        "    print(\"Email verificado.\")\n",
        "    break"
      ]
    },
    {
      "cell_type": "markdown",
      "id": "487ee073",
      "metadata": {
        "id": "487ee073"
      },
      "source": [
        "#### 5. Faça um programa para a leitura de duas notas parciais de um aluno. O programa deve calcular a média alcançada por aluno e apresentar:\n",
        "\n",
        "##### A mensagem \"Aprovado\", se a média alcançada for maior ou igual a sete;\n",
        "##### A mensagem \"Reprovado\", se a média for menor do que sete;\n",
        "##### A mensagem \"Aprovado com Distinção\", se a média for igual a dez."
      ]
    },
    {
      "cell_type": "code",
      "execution_count": null,
      "id": "7f5c7096",
      "metadata": {
        "id": "7f5c7096"
      },
      "outputs": [],
      "source": [
        "while True:\n",
        "  nota1 = float(input(\"Primeira nota do aluno: \"))\n",
        "  nota2 = float(input(\"Segunda nota do aluno: \"))\n",
        "  if (nota1 and nota2) == 0:\n",
        "      break\n",
        "\n",
        "  media = (nota1 + nota2) / 2\n",
        "\n",
        "  print(\"Média do aluno {}\".format(media))\n",
        "\n",
        "  if media == 10:\n",
        "    print(\"Parabéns você alcançou a nota maxima!\")\n",
        "  elif media >= 7:\n",
        "    print(\"Aluno aprovado!\")\n",
        "  else:\n",
        "    print(\"Reprovado\")"
      ]
    },
    {
      "cell_type": "markdown",
      "id": "6dd3f171",
      "metadata": {
        "id": "6dd3f171"
      },
      "source": [
        "#### 6. Faça um Programa que leia o orçamento de 3 empresas e mostre o maior deles."
      ]
    },
    {
      "cell_type": "code",
      "execution_count": null,
      "id": "51b591e5",
      "metadata": {
        "id": "51b591e5"
      },
      "outputs": [],
      "source": [
        "empresa1 = float(input(\"Orçamento primeira empresa: \"))\n",
        "empresa2 = float(input(\"Orçamento segunda empresa: \"))\n",
        "empresa3 = float(input(\"Orçamento terceira empresa: \"))\n",
        "\n",
        "orcamentos = (empresa1, empresa2, empresa3)\n",
        "\n",
        "print(\"O maior orçamento tem o valor: \",max(orcamentos))"
      ]
    },
    {
      "cell_type": "markdown",
      "id": "ce09ed1c",
      "metadata": {
        "id": "ce09ed1c"
      },
      "source": [
        "#### 7. Faça um Programa que leia três orçamentos e mostre o maior e o menor deles."
      ]
    },
    {
      "cell_type": "code",
      "execution_count": null,
      "id": "249f1eb8",
      "metadata": {
        "id": "249f1eb8"
      },
      "outputs": [],
      "source": [
        "def getOrcamentos():\n",
        "    global orcamentos\n",
        "    empresa1 = float(input(\"Orçamento primeira empresa: \"))\n",
        "    empresa2 = float(input(\"Orçamento segunda empresa: \"))\n",
        "    empresa3 = float(input(\"Orçamento terceira empresa: \"))\n",
        "    orcamentos = empresa1, empresa2, empresa3\n",
        "\n",
        "\n",
        "while True:\n",
        "  try:\n",
        "    getOrcamentos()\n",
        "    print(\"-------------------------------------------------\")\n",
        "    print(\"O maior orçamento tem o valor: \",max(orcamentos))\n",
        "    print(\"O maior orçamento tem o valor: \",min(orcamentos))\n",
        "    print(\"-------------------------------------------------\")\n",
        "  except ValueError:\n",
        "    print(\"Error: Algo não saiu como esperado preencha todos os campos ou tente reiniciar o programa!\")\n",
        "\n",
        "\n"
      ]
    },
    {
      "cell_type": "markdown",
      "id": "7453d43a",
      "metadata": {
        "id": "7453d43a"
      },
      "source": [
        "#### 8. Faça um programa que pergunte o preço de três produtos e informe qual produto você deve comprar, sabendo que a decisão é sempre pelo mais barato."
      ]
    },
    {
      "cell_type": "code",
      "execution_count": null,
      "id": "26a9503e",
      "metadata": {
        "id": "26a9503e"
      },
      "outputs": [],
      "source": [
        "produto1 = float(input(\"Orçamento primeiro produto: \"))\n",
        "produto2 = float(input(\"Orçamento segundo produto: \"))\n",
        "produto3 = float(input(\"Orçamento terceiro produto: \"))\n",
        "\n",
        "orcamentos = (produto1, produto2, produto3)\n",
        "\n",
        "print(\"O produto com o melhor preço: {}\".format(min(orcamentos)))"
      ]
    },
    {
      "cell_type": "markdown",
      "id": "9ade258f",
      "metadata": {
        "id": "9ade258f"
      },
      "source": [
        "#### 9. Faça um Programa que leia três números e mostre-os em ordem decrescente."
      ]
    },
    {
      "cell_type": "code",
      "execution_count": null,
      "id": "f194c39e",
      "metadata": {
        "id": "f194c39e"
      },
      "outputs": [],
      "source": [
        "nums = (4, 6, 1)\n",
        "\n",
        "print(sorted(nums))"
      ]
    },
    {
      "cell_type": "markdown",
      "id": "d06e2fe8",
      "metadata": {
        "id": "d06e2fe8"
      },
      "source": [
        "#### 10. Faça um Programa que pergunte em que turno você estuda. Peça para digitar M-matutino ou V-Vespertino ou N- Noturno. Imprima a mensagem \"Bom Dia!\", \"Boa Tarde!\" ou \"Boa Noite!\" ou \"Valor Inválido!\", conforme o caso."
      ]
    },
    {
      "cell_type": "code",
      "execution_count": null,
      "id": "1eb36141",
      "metadata": {
        "id": "1eb36141"
      },
      "outputs": [],
      "source": [
        "print(\"\"\"Qual o seu turno?\\n\n",
        "          (M)-Matutino,\\n\n",
        "          (V)-Vespertino,\\n\n",
        "          (N)-Noturno,\\n\n",
        "          (S)-Para sair.\\n\"\"\")\n",
        "\n",
        "saudacao = {\n",
        "    \"M\": \"Bom dia!\",\n",
        "    \"V\": \"Boa tarde!\",\n",
        "    \"N\": \"Boa noite!\"\n",
        "}\n",
        "\n",
        "while True:\n",
        "  try:\n",
        "    turno = str(input(\"Digite a letra correspondente ao seu turno: \")).upper()\n",
        "    if turno in saudacao:\n",
        "      getSaudacao = saudacao[turno]\n",
        "      print(getSaudacao)\n",
        "    elif turno == \"S\":\n",
        "      print(\"Saindo...\")\n",
        "      break\n",
        "    else:\n",
        "      raise ValueError (\"Digite um caracter valido!\")\n",
        "\n",
        "\n",
        "  except ValueError as e:\n",
        "    print(\"ERROR: \", e)"
      ]
    },
    {
      "cell_type": "markdown",
      "id": "4864b755",
      "metadata": {
        "id": "4864b755"
      },
      "source": [
        "#### 11. As Organizações Tabajara resolveram dar um aumento de salário aos seus colaboradores e lhe contrataram para desenvolver o programa que calculará os reajustes. Faça um programa que recebe o salário de um colaborador e o reajuste segundo o seguinte critério, baseado no salário atual:\n",
        "\n",
        "##### salários até R\\\\$ 280,00 (incluindo) : aumento de 20%\n",
        "\n",
        "##### salários entre R\\\\$ 280,00 e R\\\\$ 700,00 : aumento de 15%\n",
        "\n",
        "##### salários entre R\\\\$ 700,00 e R\\\\$ 1500,00 : aumento de 10%\n",
        "\n",
        "##### salários de R\\\\$ 1500,00 em diante : aumento de 5% Após o aumento ser realizado, informe na tela:\n",
        "\n",
        "###### o salário antes do reajuste;\n",
        "\n",
        "###### o percentual de aumento aplicado;\n",
        "\n",
        "###### o valor do aumento;\n",
        "\n",
        "###### o novo salário, após o aumento.\n",
        "\n",
        "###### Obs: Não vamos nos preocupar tanto com a formatação dos números (nº de casas decimais, por exemplo, veremos isso no próximo módulo)"
      ]
    },
    {
      "cell_type": "code",
      "execution_count": null,
      "id": "f0d34916",
      "metadata": {
        "id": "f0d34916"
      },
      "outputs": [],
      "source": [
        "def obter_funcionario():\n",
        "    while True:\n",
        "        funcionario = input(\"Nome do colaborador: \")\n",
        "        if funcionario.upper() == \"SAIR\":\n",
        "            return None\n",
        "        return funcionario\n",
        "\n",
        "def obter_salario():\n",
        "    return float(input(\"Qual o salário do colaborador: \"))\n",
        "\n",
        "def calcular_reajuste(salario):\n",
        "    if salario < 280:\n",
        "        return salario, 0\n",
        "    elif salario <= 700:\n",
        "        porcentagem = 0.20\n",
        "    elif salario <= 1500:\n",
        "        porcentagem = 0.15\n",
        "    else:\n",
        "        porcentagem = 0.1\n",
        "    reajuste = salario * porcentagem\n",
        "    novo_salario = salario + reajuste\n",
        "    return novo_salario, porcentagem\n",
        "\n",
        "def imprimir_reajuste(funcionario, salario, novo_salario, porcentagem):\n",
        "    print(\"Salário antes do reajuste: {:.2f}\".format(salario))\n",
        "    print(\"Será aplicado um reajuste de {:.0%}.\".format(porcentagem))\n",
        "    print(\"O salário do {} com o reajuste fica {:.2f}.\".format(funcionario, novo_salario))\n",
        "    print(\"---------------------------------------------------------------------------------\")\n",
        "\n",
        "if __name__ == \"__main__\":\n",
        "    print(\"Para encerrar, digite (SAIR).\")\n",
        "    print(\"---------------------------------------------------------------------------------\")\n",
        "\n",
        "    while True:\n",
        "        funcionario = obter_funcionario()\n",
        "        if not funcionario:\n",
        "            break\n",
        "\n",
        "        salario = obter_salario()\n",
        "        novo_salario, porcentagem = calcular_reajuste(salario)\n",
        "        imprimir_reajuste(funcionario, salario, novo_salario, porcentagem)\n"
      ]
    },
    {
      "cell_type": "markdown",
      "id": "b037f1e8",
      "metadata": {
        "id": "b037f1e8"
      },
      "source": [
        "#### 12 . Faça um programa para o cálculo de uma folha de pagamento, sabendo que os descontos são do Imposto de Renda, que depende do salário bruto (conforme tabela abaixo) e que o FGTS corresponde a 11% do Salário Bruto, mas não é descontado (é a empresa que deposita). O Salário Líquido corresponde ao Salário Bruto menos os descontos. O programa deverá pedir ao usuário o valor da sua hora e a quantidade de horas trabalhadas no mês.\n",
        "\n",
        "Desconto do IR:<br>\n",
        "Salário Bruto até 900 (inclusive) - isento<br>\n",
        "Salário Bruto até 1500 (inclusive) - desconto de 5%<br>\n",
        "Salário Bruto até 2500 (inclusive) - desconto de 10%<br>\n",
        "Salário Bruto acima de 2500 - desconto de 20%<br>\n",
        "Imprima na tela as informações, dispostas conforme o exemplo abaixo. No exemplo o valor da hora é 5 e a quantidade de hora é 220.\n",
        "\n",
        "Salário Bruto: (5 * 220)        : R\\\\$ 1100,00<br>\n",
        "(-) IR (5%)                     : R\\\\$   55,00<br>\n",
        "(-) INSS ( 10%)                 : R\\\\$  110,00<br>\n",
        "FGTS (11%)                      : R\\\\$  121,00<br>\n",
        "Total de descontos              : R\\\\$  165,00<br>\n",
        "Salário Liquido                 : R\\\\$  935,00<br>\n",
        "\n",
        "###### Obs: Não vamos nos preocupar tanto com a formatação dos números (nº de casas decimais, por exemplo, veremos isso no próximo módulo)"
      ]
    },
    {
      "cell_type": "code",
      "execution_count": null,
      "id": "dad18bb2",
      "metadata": {
        "id": "dad18bb2"
      },
      "outputs": [],
      "source": [
        "def calcular_desconto_ir(salario_bruto):\n",
        "    if salario_bruto <= 900:\n",
        "        return 0\n",
        "    elif salario_bruto <= 1500:\n",
        "        return salario_bruto * 0.05\n",
        "    elif salario_bruto <= 2500:\n",
        "        return salario_bruto * 0.1\n",
        "    else:\n",
        "        return salario_bruto * 0.2\n",
        "\n",
        "def calcular_desconto_inss(salario_bruto):\n",
        "    return salario_bruto * 0.1\n",
        "\n",
        "def calcular_salario_liquido(salario_bruto, desconto_ir, desconto_inss):\n",
        "    return salario_bruto - desconto_ir - desconto_inss\n",
        "\n",
        "def main():\n",
        "    print(\"Calculadora salário bruto dos funcionários. Organização Tabajara;\")\n",
        "    print(\"------------------------------------------------------------------\")\n",
        "\n",
        "    print(\"Desconto do IR:\")\n",
        "    print(\"Salário Bruto até 900 (inclusive) - isento\")\n",
        "    print(\"Salário Bruto até 1500 (inclusive) - desconto de 5%\")\n",
        "    print(\"Salário Bruto até 2500 (inclusive) - desconto de 10%\")\n",
        "    print(\"Salário Bruto acima de 2500 - desconto de 20%\")\n",
        "    print(\"------------------------------------------------------------------\")\n",
        "\n",
        "    while True:\n",
        "        try:\n",
        "            hr_trab = float(input(\"Qual o valor da hora de trabalho? \"))\n",
        "            hrs_trab = float(input(\"Qual a carga horária mensal? \"))\n",
        "            print(\"------------------------------------------------------------------\")\n",
        "\n",
        "            salario_bruto = hr_trab * hrs_trab\n",
        "            print(\"Salário bruto: {:.2f}\".format(salario_bruto))\n",
        "            print(\"------------------------------------------------------------------\")\n",
        "\n",
        "            desconto_ir = calcular_desconto_ir(salario_bruto)\n",
        "            desconto_inss = calcular_desconto_inss(salario_bruto)\n",
        "\n",
        "            total_descontos = desconto_ir + desconto_inss\n",
        "            print(\"Total de descontos: R$ {:.2f}\".format(total_descontos))\n",
        "\n",
        "            salario_liquido = calcular_salario_liquido(salario_bruto, desconto_ir, desconto_inss)\n",
        "            print(\"Salário Liquido: R$ {:.2f}\".format(salario_liquido))\n",
        "\n",
        "        except ValueError:\n",
        "            print(\"Entrada inválida. Por favor, digite um número válido.\")\n",
        "\n",
        "        opcao = input(\"\\nDeseja calcular o salário de outro funcionário? (S/N): \").strip().upper()\n",
        "        if opcao != 'S':\n",
        "            break\n",
        "\n",
        "if __name__ == \"__main__\":\n",
        "    main()\n"
      ]
    },
    {
      "cell_type": "markdown",
      "id": "814fc211",
      "metadata": {
        "id": "814fc211"
      },
      "source": [
        "#### 13. Faça um Programa que leia um número e exiba o dia correspondente da semana. (1-Domingo, 2- Segunda, etc.), se digitar outro valor deve aparecer valor inválido."
      ]
    },
    {
      "cell_type": "code",
      "execution_count": null,
      "id": "f2c2b8d8",
      "metadata": {
        "id": "f2c2b8d8"
      },
      "outputs": [],
      "source": [
        "def identificar_dia_semana(numero):\n",
        "    match numero:\n",
        "        case 1:\n",
        "            return \"Domingo\"\n",
        "        case 2:\n",
        "            return \"Segunda\"\n",
        "        case 3:\n",
        "            return \"Terça\"\n",
        "        case 4:\n",
        "            return \"Quarta\"\n",
        "        case 5:\n",
        "            return \"Quinta\"\n",
        "        case 6:\n",
        "            return \"Sexta\"\n",
        "        case 7:\n",
        "            return \"Sábado\"\n",
        "        case _:\n",
        "            return \"Digite um número válido de 1 a 7 ou 0 para sair.\"\n",
        "\n",
        "print(\"Dia da semana:\")\n",
        "print(\"1 - Domingo\")\n",
        "print(\"2 - Segunda\")\n",
        "print(\"3 - Terça\")\n",
        "print(\"4 - Quarta\")\n",
        "print(\"5 - Quinta\")\n",
        "print(\"6 - Sexta\")\n",
        "print(\"7 - Sábado\")\n",
        "print(\"---------------------------------------------------\")\n",
        "print(\"Insira 0 para sair da aplicação.\")\n",
        "print(\"---------------------------------------------------\")\n",
        "print(\"Digite um número correspondente ao dia da semana.\")\n",
        "\n",
        "while True:\n",
        "    num_semana = int(input(\"Digite um número: \"))\n",
        "\n",
        "    if num_semana == 0:\n",
        "        break\n",
        "\n",
        "    dia_semana = identificar_dia_semana(num_semana)\n",
        "    print(dia_semana)"
      ]
    },
    {
      "cell_type": "code",
      "source": [
        "diasDaSemana = {\n",
        "    1: \"Domingo\",\n",
        "    2: \"Segunda\",\n",
        "    3: \"Terça\",\n",
        "    4: \"Quarta\",\n",
        "    5: \"Quinta\",\n",
        "    6: \"Sexta\",\n",
        "    7: \"Sábado\"\n",
        "}\n",
        "\n",
        "print(\"Dia da semana:\")\n",
        "print(\"1 - Domingo\")\n",
        "print(\"2 - Segunda\")\n",
        "print(\"3 - Terça\")\n",
        "print(\"4 - Quarta\")\n",
        "print(\"5 - Quinta\")\n",
        "print(\"6 - Sexta\")\n",
        "print(\"7 - Sábado\")\n",
        "print(\"---------------------------------------------------\")\n",
        "print(\"Insira 0 para sair da aplicação.\")\n",
        "print(\"---------------------------------------------------\")\n",
        "print(\"Digite um número correspondente ao dia da semana.\")\n",
        "\n",
        "while True:\n",
        "    num_semana = int(input(\"Digite um número: \"))\n",
        "\n",
        "    if num_semana == 0:\n",
        "        break\n",
        "\n",
        "    dia_semana = diasDaSemana[num_semana]\n",
        "    print(dia_semana)"
      ],
      "metadata": {
        "id": "P072jdjyxuy5"
      },
      "id": "P072jdjyxuy5",
      "execution_count": null,
      "outputs": []
    },
    {
      "cell_type": "markdown",
      "id": "6e5f461e",
      "metadata": {
        "id": "6e5f461e"
      },
      "source": [
        "#### 14. Faça um programa que lê as duas notas parciais obtidas por um aluno numa disciplina ao longo de um semestre, e calcule a sua média. Em seguida, mostre qual conceito o aluno teve. A atribuição de conceitos obedece à tabela abaixo:\n",
        "<pre>\n",
        "Média de Aproveitamento  Conceito\n",
        "Entre 9.0 e 10.0        A\n",
        "Entre 7.5 e 9.0         B\n",
        "Entre 6.0 e 7.5         C\n",
        "Entre 4.0 e 6.0         D\n",
        "Entre 4.0 e zero        E\n",
        "</pre>"
      ]
    },
    {
      "cell_type": "code",
      "execution_count": null,
      "id": "29721a43",
      "metadata": {
        "id": "29721a43"
      },
      "outputs": [],
      "source": [
        "\n",
        "def minha_nota(nota):\n",
        "  match nota:\n",
        "    case valor if valor < 4:\n",
        "      return \"E\"\n",
        "    case valor if 4 < valor <= 6:\n",
        "      return \"D\"\n",
        "    case valor if 6 < valor <= 7.5:\n",
        "      return \"C\"\n",
        "    case valor if 7.5 < valor <= 9:\n",
        "      return \"B\"\n",
        "    case valor if 9 < valor <= 10:\n",
        "      return \"A\"\n",
        "\n",
        "def verificarNegativo():\n",
        "  nota1 = float(input(\"Primeira nota do aluno: \"))\n",
        "  nota2 = float(input(\"Segunda noa do aluno: \"))\n",
        "  if nota1 >= 0 and nota2 >= 0:\n",
        "    return nota1, nota2\n",
        "  else:\n",
        "    raise ValueError(\"O valor não pode ser negativo!\")\n",
        "\n",
        "\n",
        "\n",
        "while True:\n",
        "  try:\n",
        "    nota1, nota2 = verificarNegativo()\n",
        "\n",
        "    total_media = (nota1 + nota2) / 2\n",
        "\n",
        "    print(\" \")\n",
        "    print(\"-------------------------------------------\")\n",
        "    print(\"Média do aluno foi {:.1f}\".format(total_media))\n",
        "    print(\"-------------------------------------------\")\n",
        "    print(\"O conceito é: {}\".format(minha_nota(total_media)))\n",
        "    print(\"-------------------------------------------\")\n",
        "    print(\" \")\n",
        "  except ValueError as e:\n",
        "    print(\"Erro:\", e)"
      ]
    },
    {
      "cell_type": "markdown",
      "id": "e6b3bcaf",
      "metadata": {
        "id": "e6b3bcaf"
      },
      "source": [
        "#### 15. Você está construindo um calendário para controlar dias de trabalho a pedido do RH. Nessa construção, você vai precisar definir quais anos são bissextos e quais não são, para montar o calendário de forma correta. Faça um Programa que peça um número correspondente a um determinado ano e em seguida informe se este ano é ou não bissexto.\n",
        "<pre>\n",
        "Dica para determinar se um ano é bissexto:\n",
        "- São bissextos todos os anos múltiplos de 400, p.ex.: 1600, 2000, 2400, 2800...\n",
        "- São bissextos todos os múltiplos de 4, exceto se for múltiplo de 100 mas não de 400,\n",
        "p.ex.: 1996, 2000, 2004, 2008, 2012, 2016, 2020, 2024, 2028...\n",
        "- Não são bissextos todos os demais anos.<br>\n",
        "ex1: 2004 é múltiplo de 4, mas não é múltiplo de 100, então é bissexto.\n",
        "ex2: 2000 é múltiplo de 4, mas é múltiplo de 100, só que também é multiplo de 400, então é bissexto (porque todo ano múltiplo de 400 é bissexto, independente do resto).\n",
        "ex3: 1900 é múltiplo de 4, é múltiplo de 100, mas não é múltiplo de 400, então não é bissexto\n",
        "\n",
        "</pre>\n",
        "\n",
        "Dica: lembre que: numero % 4 é o resto da divisão do número por 4, ex: 10 % 3 = 1 (já que 10/3 = 3 e resta 1)"
      ]
    },
    {
      "cell_type": "code",
      "execution_count": null,
      "id": "56af223f",
      "metadata": {
        "id": "56af223f"
      },
      "outputs": [],
      "source": [
        "ano = int(input(\"Insira um ano: \"))\n",
        "\n",
        "def is_leap_year(ano):\n",
        "  try:\n",
        "    if ano % 4 == 0 and ano % 400 == 0:\n",
        "      print(\"Ano é bissexto.\")\n",
        "    else:\n",
        "      print(\"Ano não é bissexto.\")\n",
        "  except ValueError as e:\n",
        "    raise(\"Error: \", e)\n",
        "\n",
        "is_leap_year(ano)"
      ]
    },
    {
      "cell_type": "markdown",
      "id": "9fe532c8",
      "metadata": {
        "id": "9fe532c8"
      },
      "source": [
        "#### 16. Faça um Programa para leitura de três notas parciais de um aluno. O programa deve calcular a média alcançada por aluno e apresentar:\n",
        "<pre>\n",
        "A mensagem \"Aprovado\", se a média for maior ou igual a 7, com a respectiva média alcançada;\n",
        "A mensagem \"Reprovado\", se a média for menor do que 7, com a respectiva média alcançada;\n",
        "A mensagem \"Aprovado com Distinção\", se a média for igual a 10.\n",
        "</pre>"
      ]
    },
    {
      "cell_type": "code",
      "execution_count": null,
      "id": "1a56e99f",
      "metadata": {
        "id": "1a56e99f"
      },
      "outputs": [],
      "source": [
        "def pegar_notas():\n",
        "  nota1 = float(input(\"Digite a primeira nota: \"))\n",
        "  nota2 = float(input(\"Agora a segunda: \"))\n",
        "  nota3 = float(input(\"Agora a terceira: \"))\n",
        "  media = calcular_notas(nota1, nota2, nota3)\n",
        "  return media\n",
        "\n",
        "\n",
        "def calcular_notas(nota1, nota2, nota3):\n",
        "  media = (nota1 + nota2 + nota3) / 3\n",
        "  return media\n",
        "\n",
        "\n",
        "\n",
        "while True:\n",
        "  try:\n",
        "    pgNotas = pegar_notas()\n",
        "\n",
        "\n",
        "    if pgNotas == 10:\n",
        "      print(\"Aprovado com Distinção\")\n",
        "    elif pgNotas >= 7:\n",
        "      print(\"Aprovado\")\n",
        "    else:\n",
        "      print(\"Reprovado\")\n",
        "\n",
        "  except ValueError as e:\n",
        "    print(\"Error: \", e)\n"
      ]
    },
    {
      "cell_type": "markdown",
      "id": "d544412e",
      "metadata": {
        "id": "d544412e"
      },
      "source": [
        "#### 17. João Papo-de-Pescador, homem de bem, comprou um microcomputador para controlar o rendimento diário de seu trabalho. Toda vez que ele traz um peso de peixes maior que o estabelecido pelo regulamento de pesca do estado de São Paulo (50 quilos) deve pagar uma multa de R$ 4,00 por quilo excedente. João precisa que você faça um programa que leia a variável peso (peso de peixes) e calcule o excesso. Gravar na variável excesso a quantidade de quilos além do limite e na variável multa o valor da multa que João deverá pagar. Imprima os dados do programa com as mensagens adequadas."
      ]
    },
    {
      "cell_type": "code",
      "source": [
        "def calcular_multa_excesso_peso(peso_peixes, limite_peso, valor_multa):\n",
        "  if peso_peixes > limite_peso:\n",
        "      excesso = peso_peixes - limite_peso\n",
        "      multa = excesso * valor_multa\n",
        "      return excesso, multa\n",
        "  else:\n",
        "      return 0, 0\n",
        "\n",
        "def main():\n",
        "  limite_peso = 50\n",
        "  valor_multa = 4.00\n",
        "\n",
        "  peso_peixes = float(input(\"Quantos quilos de peixes João trouxe? \"))\n",
        "\n",
        "  excesso, multa = calcular_multa_excesso_peso(peso_peixes, limite_peso, valor_multa)\n",
        "\n",
        "  if excesso > 0:\n",
        "      print(f\"João trouxe {excesso:.2f} quilos além do limite.\")\n",
        "      print(f\"João deve pagar R${multa:.2f} de multa.\")\n",
        "  else:\n",
        "      print(\"João não excedeu o limite de peso. Não há multa a ser paga.\")\n",
        "\n",
        "if __name__ == \"__main__\":\n",
        "  main()"
      ],
      "metadata": {
        "id": "tRbcIyTvZ8ap"
      },
      "id": "tRbcIyTvZ8ap",
      "execution_count": null,
      "outputs": []
    },
    {
      "cell_type": "markdown",
      "id": "0e5256e0",
      "metadata": {
        "id": "0e5256e0"
      },
      "source": [
        "#### 18. Faça um Programa para um caixa eletrônico. O programa deverá perguntar ao usuário a valor do saque e depois informar quantas notas de cada valor serão fornecidas. As notas disponíveis serão as de 1, 5, 10, 50 e 100 reais. O valor mínimo é de 10 reais e o máximo de 600 reais. O programa não deve se preocupar com a quantidade de notas existentes na máquina.\n",
        "<pre>\n",
        "Exemplo 1: Para sacar a quantia de 256 reais, o programa fornece duas notas de 100, uma nota de 50, uma nota de 5 e uma nota de 1;\n",
        "Exemplo 2: Para sacar a quantia de 399 reais, o programa fornece três notas de 100, uma nota de 50, quatro notas de 10, uma nota de 5 e quatro notas de 1.\n",
        "</pre>\n",
        "\n",
        "Dica1: numero // 10 vai te dar como resposta a parte inteira da divisão do número por 10.<br>\n",
        "Dica2: numero % 10 vai te dar o resto da divisão do número por 10."
      ]
    },
    {
      "cell_type": "code",
      "execution_count": null,
      "id": "9b4244c7",
      "metadata": {
        "id": "9b4244c7"
      },
      "outputs": [],
      "source": [
        "def calcular_notas(valor):\n",
        "    notas_disponiveis = [100, 50, 10, 5, 1]\n",
        "    notas_fornecidas = []\n",
        "\n",
        "    for nota in notas_disponiveis:\n",
        "        qtd_notas = valor // nota\n",
        "        notas_fornecidas.append(qtd_notas)\n",
        "        valor %= nota\n",
        "\n",
        "    return notas_fornecidas\n",
        "\n",
        "def imprimir_resultado(notas):\n",
        "    valores_notas = [100, 50, 10, 5, 1]\n",
        "    for i in range(len(notas)):\n",
        "        if notas[i] > 0:\n",
        "            print(f\"{notas[i]} nota(s) de R$ {valores_notas[i]}\")\n",
        "\n",
        "def main():\n",
        "  while True:\n",
        "    try:\n",
        "      print(\"-------------------------------------------\")\n",
        "      print(\"Bem-vindo ao Caixa Eletrônico!\")\n",
        "      print(\"Por favor, informe o valor do saque (entre R$10 e R$600):\")\n",
        "      print(\"-------------------------------------------\")\n",
        "      print(\"Digite (0) para encerrar o programa.\")\n",
        "\n",
        "      valor_saque = int(input())\n",
        "\n",
        "      if valor_saque == 0:\n",
        "        print(\"Saindo...\")\n",
        "        break\n",
        "      elif valor_saque < 10 or valor_saque > 600:\n",
        "          print(\"Valor de saque inválido!\")\n",
        "          return\n",
        "\n",
        "      notas = calcular_notas(valor_saque)\n",
        "      print(\"\\nNotas fornecidas:\")\n",
        "      imprimir_resultado(notas)\n",
        "\n",
        "\n",
        "    except ValueError:\n",
        "      raise ValueError(\"Algo deu errado tente reiniciar o programa!\")\n",
        "\n",
        "if __name__ == \"__main__\":\n",
        "    main()\n"
      ]
    },
    {
      "cell_type": "markdown",
      "id": "cba47494",
      "metadata": {
        "id": "cba47494"
      },
      "source": [
        "#### 19. Faça um programa que faça 5 perguntas para uma pessoa sobre um crime. As perguntas são:\n",
        "<pre>\n",
        "\"Telefonou para a vítima?\"\n",
        "\"Esteve no local do crime?\"\n",
        "\"Mora perto da vítima?\"\n",
        "\"Devia para a vítima?\"\n",
        "\"Já trabalhou com a vítima?\"\n",
        "O programa deve no final emitir uma classificação sobre a participação da pessoa no crime. Se a pessoa responder positivamente a 2 questões ela deve ser classificada como \"Suspeita\", entre 3 e 4 como \"Cúmplice\" e 5 como \"Assassino\". Caso contrário, ele será classificado como \"Inocente\".\n",
        "</pre>"
      ]
    },
    {
      "cell_type": "code",
      "execution_count": null,
      "id": "5fdf9b88",
      "metadata": {
        "id": "5fdf9b88"
      },
      "outputs": [],
      "source": [
        "def interrogado():\n",
        "    nomeInterrogado = str(input(\"Qual o nome do interrogado? \"))\n",
        "    return nomeInterrogado\n",
        "\n",
        "def fazer_perguntas():\n",
        "    pontuacao = 0\n",
        "    print(\"-----------------------------------------------------\")\n",
        "    print(\"Responda às seguintes perguntas com 'sim' ou 'não':\")\n",
        "    print(\"-----------------------------------------------------\")\n",
        "\n",
        "    respostas = [\n",
        "        str(input(\"Telefonou para a vítima? \")).lower(),\n",
        "        str(input(\"Esteve no local do crime? \")).lower(),\n",
        "        str(input(\"Mora perto da vítima? \")).lower(),\n",
        "        str(input(\"Devia para a vítima? \")).lower(),\n",
        "        str(input(\"Já trabalhou com a vítima? \")).lower()\n",
        "    ]\n",
        "\n",
        "    for resposta in respostas:\n",
        "        if resposta == \"sim\":\n",
        "            pontuacao += 1\n",
        "\n",
        "    return pontuacao\n",
        "\n",
        "def classificar_participacao(pontuacao):\n",
        "    if pontuacao == 2:\n",
        "        return \"Suspeita\"\n",
        "    elif 3 <= pontuacao <= 4:\n",
        "        return \"Cúmplice\"\n",
        "    elif pontuacao == 5:\n",
        "        return \"Assassino\"\n",
        "    else:\n",
        "        return \"Inocente\"\n",
        "\n",
        "def main():\n",
        "    interrogatorio = interrogado()\n",
        "    pontuacao = fazer_perguntas()\n",
        "    classificacao = classificar_participacao(pontuacao)\n",
        "\n",
        "    print(\"\\nResultado da investigação:\")\n",
        "    print(\"--------------------------\")\n",
        "    print(f\"Nome do interrogado: {interrogatorio}\")\n",
        "    print(f\"Classificação: {classificacao}\")\n",
        "\n",
        "if __name__ == \"__main__\":\n",
        "    main()"
      ]
    },
    {
      "cell_type": "markdown",
      "id": "18901e98",
      "metadata": {
        "id": "18901e98"
      },
      "source": [
        "#### 20. Um posto está vendendo combustíveis com a seguinte tabela de descontos:\n",
        "<pre>\n",
        "Álcool:\n",
        "até 20 litros, desconto de 3% por litro\n",
        "acima de 20 litros, desconto de 5% por litro\n",
        "Gasolina:\n",
        "até 20 litros, desconto de 4% por litro\n",
        "acima de 20 litros, desconto de 6% por litro\n",
        "\n",
        "Escreva um algoritmo que leia o número de litros vendidos, o tipo de combustível (codificado da seguinte forma: A-álcool, G-gasolina), calcule e imprima o valor a ser pago pelo cliente sabendo-se que o preço do litro da gasolina é R$ 2,50 o preço do litro do álcool é R$ 1,90.\n",
        "</pre>"
      ]
    },
    {
      "cell_type": "code",
      "execution_count": null,
      "id": "a1fd8c38",
      "metadata": {
        "id": "a1fd8c38"
      },
      "outputs": [],
      "source": [
        "def calcular_desconto(litros, preco_base, taxa_desconto1, taxa_desconto2):\n",
        "    if litros <= 20:\n",
        "        desconto = litros * taxa_desconto1 * preco_base\n",
        "        preco_final = litros * (1 - taxa_desconto1) * preco_base\n",
        "        return preco_final, taxa_desconto1 * 100, desconto\n",
        "    else:\n",
        "        desconto = litros * taxa_desconto2 * preco_base\n",
        "        preco_final = litros * (1 - taxa_desconto2) * preco_base\n",
        "        return preco_final, taxa_desconto2 * 100, desconto\n",
        "\n",
        "def obter_preco_combustivel(litros, tipo_combustivel):\n",
        "    if tipo_combustivel == 'A':\n",
        "        preco, desconto, valor_descontado = calcular_desconto(litros, 1.90, 0.03, 0.05)\n",
        "        return preco, \"Álcool\", desconto, valor_descontado\n",
        "    elif tipo_combustivel == 'G':\n",
        "        preco, desconto, valor_descontado = calcular_desconto(litros, 2.50, 0.04, 0.06)\n",
        "        return preco, \"Gasolina\", desconto, valor_descontado\n",
        "    else:\n",
        "        return None, None, None, None\n",
        "\n",
        "def main():\n",
        "  print(\"-----------------------------------------------------\")\n",
        "  print(\"Álcool:\")\n",
        "  print(\"  até 20 litros, desconto de 3% por litro\")\n",
        "  print(\"  acima de 20 litros, desconto de 5% por litro\")\n",
        "  print(\"Gasolina:\")\n",
        "  print(\"  até 20 litros, desconto de 4% por litro\")\n",
        "  print(\"  acima de 20 litros, desconto de 6% por litro\")\n",
        "  print(\"-----------------------------------------------------\")\n",
        "  while True:\n",
        "    try:\n",
        "      litros = float(input(\"Quantos litros vai abastecer? \"))\n",
        "      tipo_combustivel = input(\"Qual o tipo de combustível (A - Álcool, G - Gasolina)? \").upper()\n",
        "      print(\"-----------------------------------------------------\")\n",
        "\n",
        "      preco, tipo_combustivel, desconto, valor_descontado = obter_preco_combustivel(litros, tipo_combustivel)\n",
        "      imprimir_preco_final(preco, tipo_combustivel, desconto, valor_descontado)\n",
        "    except ValueError as e:\n",
        "      print(\"Error: \", e)\n",
        "\n",
        "def imprimir_preco_final(preco, tipo_combustivel, desconto, valor_descontado):\n",
        "    if preco is not None:\n",
        "        print(f\"Valor total a pagar pelo abastecimento de {tipo_combustivel}: R$ {preco:.2f}\")\n",
        "        print(f\"Desconto aplicado: {desconto:.2f}%\")\n",
        "        print(f\"Valor descontado: R$ {valor_descontado:.2f}\")\n",
        "    else:\n",
        "        print(\"Tipo de combustível inválido!\")\n",
        "\n",
        "if __name__ == \"__main__\":\n",
        "    main()\n"
      ]
    },
    {
      "cell_type": "markdown",
      "id": "be0f8f32",
      "metadata": {
        "id": "be0f8f32"
      },
      "source": [
        "#### 21. Uma fruteira está vendendo frutas com a seguinte tabela de preços:\n",
        "<pre>\n",
        "                      Até 5 Kg           Acima de 5 Kg\n",
        "Morango         R$ 2,50 por Kg          R$ 2,20 por Kg\n",
        "Maçã            R$ 1,80 por Kg          R$ 1,50 por Kg\n",
        "Se o cliente comprar mais de 8 Kg em frutas ou o valor total da compra ultrapassar R$ 25,00, receberá ainda um desconto de 10% sobre este total. Escreva um algoritmo para ler a quantidade (em Kg) de morangos e a quantidade (em Kg) de maças adquiridas e escreva o valor a ser pago pelo cliente.\n",
        "</pre>"
      ]
    },
    {
      "cell_type": "code",
      "execution_count": null,
      "id": "35c47c8e",
      "metadata": {
        "id": "35c47c8e"
      },
      "outputs": [],
      "source": [
        "precos = {\n",
        "        \"Morango\": 2.50,\n",
        "        \"Maçã\": 1.80\n",
        "    }\n",
        "\n",
        "def calcular_preco(fruta, quilos):\n",
        "    global precos\n",
        "\n",
        "\n",
        "    preco_por_quilo = precos.get(fruta)\n",
        "    if preco_por_quilo is None:\n",
        "        print(\"Fruta inválida.\")\n",
        "        return 0\n",
        "\n",
        "    if quilos <= 5:\n",
        "        preco_total = quilos * preco_por_quilo\n",
        "    else:\n",
        "        preco_total = quilos * (2.20 if fruta == \"Morango\" else 1.50)\n",
        "\n",
        "    return preco_total\n",
        "\n",
        "def calcular_desconto(preco_total):\n",
        "    if preco_total > 25:\n",
        "        preco_total *= 0.90  # Aplica desconto de 10%\n",
        "\n",
        "    return preco_total\n",
        "\n",
        "def mostrar_tabela_precos():\n",
        "    print(\"Tabela de Preços:\")\n",
        "    print(\"-------------------------------------------\")\n",
        "    for fruta, preco in precos.items():\n",
        "        print(f\"{fruta}: R$ {preco:.2f}\")\n",
        "    print(\"-------------------------------------------\")\n",
        "\n",
        "\n",
        "def mostrar_frutas_mercado():\n",
        "    print(\"Frutas disponíveis no mercado:\")\n",
        "    print(\"-------------------------------------------\")\n",
        "    print(\"\\n\".join(precos.keys()))\n",
        "    print(\"-------------------------------------------\")\n",
        "\n",
        "def calcular_frutas():\n",
        "    fruta_escolhida = input(\"Qual fruta você deseja calcular? (Morango ou Maçã): \").capitalize()\n",
        "    quilos = int(input(f\"Quantos quilos de {fruta_escolhida} você tem? \"))\n",
        "\n",
        "    preco_total = calcular_preco(fruta_escolhida, quilos)\n",
        "    preco_total = calcular_desconto(preco_total)\n",
        "\n",
        "    print(\"O valor total a ser pago é: R$ {:.2f}\".format(preco_total))\n",
        "\n",
        "opcoes = {\n",
        "    1: mostrar_tabela_precos,\n",
        "    2: mostrar_frutas_mercado,\n",
        "    3: calcular_frutas\n",
        "}\n",
        "while True:\n",
        "  try:\n",
        "    # Menu principal\n",
        "    print(\"\"\"Escolha uma opção:\n",
        "(1) - Mostrar tabela de preços\n",
        "(2) - Mostrar todas as frutas no mercado\n",
        "(3) - Escolher uma fruta\n",
        "\"\"\")\n",
        "    opcao_menu = int(input())\n",
        "    print(\"-------------------------------------------\")\n",
        "\n",
        "    if opcao_menu == 0:\n",
        "      print(\"Saindo...\")\n",
        "      break\n",
        "    elif opcao_menu in opcoes:\n",
        "      opcoes[opcao_menu]()\n",
        "\n",
        "    else:\n",
        "      raise ValueError(\"Opção inválida.\")\n",
        "  except ValueError as e:\n",
        "    print(\"Error: \", e)\n",
        "    print(\"-------------------------------------------\")\n"
      ]
    },
    {
      "cell_type": "markdown",
      "id": "4dbd53ed",
      "metadata": {
        "id": "4dbd53ed"
      },
      "source": [
        "#### 22. O Hipermercado Tabajara está com uma promoção de carnes que é imperdível. Confira:\n",
        "<pre>\n",
        "                      Até 5 Kg           Acima de 5 Kg\n",
        "File Duplo      R$ 4,90 por Kg          R$ 5,80 por Kg\n",
        "Alcatra         R$ 5,90 por Kg          R$ 6,80 por Kg\n",
        "Picanha         R$ 6,90 por Kg          R$ 7,80 por Kg\n",
        "Para atender a todos os clientes, cada cliente poderá levar apenas um dos tipos de carne da promoção, porém não há limites para a quantidade de carne por cliente. Se compra for feita no cartão Tabajara o cliente receberá ainda um desconto de 5% sobre o total da compra. Escreva um programa que peça o tipo e a quantidade de carne comprada pelo usuário e gere um cupom fiscal, contendo as informações da compra: tipo e quantidade de carne, preço total, tipo de pagamento, valor do desconto e valor a pagar.\n",
        "</pre>"
      ]
    },
    {
      "cell_type": "code",
      "execution_count": null,
      "id": "15a77357",
      "metadata": {
        "id": "15a77357"
      },
      "outputs": [],
      "source": [
        "tipos_pagamento = [\"TABAJARA\", \"OUTROS\"]\n",
        "\n",
        "precos = {\n",
        "    \"File Duplo\": 4.90,\n",
        "    \"Alcatra\": 5.90,\n",
        "    \"Picanha\": 6.90\n",
        "}\n",
        "\n",
        "def calcular_preco(carne, quilos):\n",
        "    preco_por_quilo = precos.get(carne)\n",
        "    if preco_por_quilo is None:\n",
        "        print(\"Carne inválida.\")\n",
        "        return 0\n",
        "\n",
        "    if quilos <= 5:\n",
        "        preco_total = quilos * preco_por_quilo\n",
        "    else:\n",
        "        preco_total = 5 * preco_por_quilo + (quilos - 5) * (preco_por_quilo + 0.90)  # Calcula preço para os primeiros 5kg e adiciona o preço adicional para os quilos extras\n",
        "\n",
        "    return preco_total\n",
        "\n",
        "def calcular_desconto(preco_total, pagamento):\n",
        "    if pagamento == \"TABAJARA\":\n",
        "        desconto = preco_total * 0.05  # Aplica desconto de 5% para pagamentos no cartão Tabajara\n",
        "        preco_total -= desconto\n",
        "    return preco_total\n",
        "\n",
        "def gerar_cupom(carne, quilos, preco_total, pagamento):\n",
        "    print(\"CUPOM FISCAL\")\n",
        "    print(\"-------------------------------------------\")\n",
        "    print(f\"Tipo de carne: {carne}\")\n",
        "    print(f\"Quantidade (Kg): {quilos}\")\n",
        "    print(f\"Preço total: R$ {preco_total:.2f}\")\n",
        "    print(f\"Tipo de pagamento: {pagamento}\")\n",
        "    print(\"-------------------------------------------\")\n",
        "\n",
        "while True:\n",
        "    try:\n",
        "        # Menu principal\n",
        "        print(\"\"\"Escolha uma opção:\n",
        "(1) - File Duplo\n",
        "(2) - Alcatra\n",
        "(3) - Picanha\n",
        "\"\"\")\n",
        "        opcao_menu = int(input())\n",
        "        print(\"-------------------------------------------\")\n",
        "        opcoes = {\n",
        "            1: \"File Duplo\",\n",
        "            2: \"Alcatra\",\n",
        "            3: \"Picanha\"\n",
        "        }\n",
        "        if opcao_menu not in opcoes:\n",
        "            raise ValueError(\"Opção inválida.\")\n",
        "\n",
        "        carne_escolhida = opcoes[opcao_menu]\n",
        "        quilos = float(input(f\"Quantos quilos de {carne_escolhida} você deseja comprar? \"))\n",
        "        pagamento = input(\"Qual é o tipo de pagamento? (Tabajara ou Outros): \").upper()\n",
        "\n",
        "        if pagamento not in tipos_pagamento:\n",
        "            raise ValueError(\"Tipo de pagamento inválido.\")\n",
        "\n",
        "        preco_total = calcular_preco(carne_escolhida, quilos)\n",
        "        preco_total = calcular_desconto(preco_total, pagamento)\n",
        "\n",
        "        gerar_cupom(carne_escolhida, quilos, preco_total, pagamento)\n",
        "\n",
        "    except ValueError as e:\n",
        "        print(\"Error: \", e)\n",
        "        print(\"-------------------------------------------\")\n"
      ]
    },
    {
      "cell_type": "markdown",
      "id": "b949545b",
      "metadata": {
        "id": "b949545b"
      },
      "source": [
        "#### 23. Faça um Programa para uma loja de tintas. O programa deverá pedir o tamanho em metros quadrados da área a ser pintada. Considere que a cobertura da tinta é de 1 litro para cada 6 metros quadrados e que a tinta é vendida em latas de 18 litros, que custam R\\\\$ 80,00 ou em galões de 3,6 litros, que custam R\\\\$ 25,00."
      ]
    },
    {
      "cell_type": "code",
      "execution_count": null,
      "id": "b11185b0",
      "metadata": {
        "id": "b11185b0"
      },
      "outputs": [],
      "source": [
        "def calcular_litros(area):\n",
        "    return area // 6\n",
        "\n",
        "def calcular_preco_latas(litros):\n",
        "    latas = round(litros / 18)\n",
        "    return latas * 80\n",
        "\n",
        "def calcular_preco_galoes(litros):\n",
        "    galoes = round(litros / 3.6)\n",
        "    return galoes * 25\n",
        "\n",
        "area_a_ser_pintada = float(input(\"Digite o tamanho da área a ser pintada em metros quadrados: \"))\n",
        "\n",
        "litros_necessarios = calcular_litros(area_a_ser_pintada)\n",
        "\n",
        "preco_latas = calcular_preco_latas(litros_necessarios)\n",
        "preco_galoes = calcular_preco_galoes(litros_necessarios)\n",
        "\n",
        "print(f\"Para pintar {area_a_ser_pintada:.2f} metros quadrados:\")\n",
        "print(f\"Você precisará de {litros_necessarios:.2f} litros de tinta.\")\n",
        "\n",
        "print(f\"Com latas de 18 litros, o preço será de R$ {preco_latas:.2f}.\")\n",
        "print(f\"Com galões de 3.6 litros, o preço será de R$ {preco_galoes:.2f}.\")"
      ]
    }
  ],
  "metadata": {
    "kernelspec": {
      "display_name": "Python 3 (ipykernel)",
      "language": "python",
      "name": "python3"
    },
    "language_info": {
      "codemirror_mode": {
        "name": "ipython",
        "version": 3
      },
      "file_extension": ".py",
      "mimetype": "text/x-python",
      "name": "python",
      "nbconvert_exporter": "python",
      "pygments_lexer": "ipython3",
      "version": "3.9.7"
    },
    "colab": {
      "provenance": []
    }
  },
  "nbformat": 4,
  "nbformat_minor": 5
}